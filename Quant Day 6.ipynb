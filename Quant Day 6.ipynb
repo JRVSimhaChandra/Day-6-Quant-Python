{
 "cells": [
  {
   "cell_type": "markdown",
   "id": "32d81f06-80c7-4b6c-ae19-caa805e3a4ff",
   "metadata": {},
   "source": [
    "## Instruments and pricing engines\n",
    "\n",
    "Setup\n",
    "\n",
    "First pricing method: analytic Black-Scholes formula"
   ]
  },
  {
   "cell_type": "code",
   "execution_count": 37,
   "id": "6bc18bfd-aabf-48bf-8386-a02116ec27e4",
   "metadata": {},
   "outputs": [
    {
     "name": "stdout",
     "output_type": "stream",
     "text": [
      "The option price is: 17.698227839595344\n"
     ]
    }
   ],
   "source": [
    "from QuantLib import *\n",
    "\n",
    "# Define the option\n",
    "maturity_date = Date(15, 1, 2025)\n",
    "spot_price = 100\n",
    "strike_price = 100\n",
    "volatility = 0.20  # the historical vols for a year\n",
    "risk_free_rate = 0.01\n",
    "dividend_rate = 0.02\n",
    "\n",
    "# Option type\n",
    "option_type = Option.Call\n",
    "exercise = EuropeanExercise(maturity_date)\n",
    "payoff = PlainVanillaPayoff(option_type, strike_price)\n",
    "option = VanillaOption(payoff, exercise)\n",
    "\n",
    "# Market data\n",
    "spot_handle = QuoteHandle(SimpleQuote(spot_price))\n",
    "flat_ts = YieldTermStructureHandle(FlatForward(0, TARGET(), risk_free_rate, Actual360()))\n",
    "dividend_yield = YieldTermStructureHandle(FlatForward(0, TARGET(), dividend_rate, Actual360()))\n",
    "flat_vol_ts = BlackVolTermStructureHandle(BlackConstantVol(0, TARGET(), volatility, Actual360()))\n",
    "\n",
    "\n",
    "bs_process = BlackScholesMertonProcess(spot_handle, dividend_yield, flat_ts, flat_vol_ts)\n",
    "\n",
    "\n",
    "engine = AnalyticEuropeanEngine(bs_process)\n",
    "option.setPricingEngine(engine)\n",
    "\n",
    "\n",
    "option_price = option.NPV()\n",
    "print(f\"The option price is: {option_price}\")\n"
   ]
  },
  {
   "cell_type": "code",
   "execution_count": 43,
   "id": "b68d8d6a-c4f0-48d4-8a5a-c7bd38e62648",
   "metadata": {},
   "outputs": [
    {
     "name": "stdout",
     "output_type": "stream",
     "text": [
      "0.45397905183641285\n",
      "0.004754495460641294\n",
      "104.7837971798001\n"
     ]
    }
   ],
   "source": [
    "print(option.delta())\n",
    "print(option.gamma())\n",
    "print(option.vega())"
   ]
  },
  {
   "cell_type": "markdown",
   "id": "c0f032a6-c9f7-409b-970a-934960edbea2",
   "metadata": {},
   "source": [
    "# Market Changes"
   ]
  },
  {
   "cell_type": "code",
   "execution_count": 44,
   "id": "f9147157-2638-471b-8227-9cbf2681dca6",
   "metadata": {},
   "outputs": [
    {
     "name": "stdout",
     "output_type": "stream",
     "text": [
      "17.698227839595344\n"
     ]
    }
   ],
   "source": [
    "u.setValue(105.0)\n",
    "print(option.NPV())"
   ]
  },
  {
   "cell_type": "code",
   "execution_count": 45,
   "id": "54f15250-6694-4c06-8a1a-fb023b7fef7e",
   "metadata": {},
   "outputs": [],
   "source": [
    "import numpy as np\n",
    "from IPython.display import display\n",
    "import matplotlib.pyplot as plt\n",
    "import utils"
   ]
  },
  {
   "cell_type": "code",
   "execution_count": 46,
   "id": "08421cb2-e53f-4e1d-bfa1-25aaac4b7bf4",
   "metadata": {},
   "outputs": [
    {
     "data": {
      "image/png": "[encoded data removed]",
      "text/plain": [
       "<Figure size 640x480 with 1 Axes>"
      ]
     },
     "metadata": {},
     "output_type": "display_data"
    }
   ],
   "source": [
    "import numpy as np\n",
    "from IPython.display import display\n",
    "import matplotlib.pyplot as plt\n",
    "\n",
    "# Assuming 'utils' contains functions for plotting, it's likely you intended to use matplotlib's plotting capabilities directly\n",
    "# If 'utils' is a custom module and 'plot' is intended to be a function within it, ensure that it's defined in the module.\n",
    "# Replace the call to 'utils.plot()' with the following:\n",
    "\n",
    "fig, ax = plt.subplots()  # Create a figure and axes using matplotlib\n",
    "\n",
    "# define xs and ys here so they can be used in the plotting code\n",
    "xs = np.linspace(80.0, 120.0, 400)\n",
    "ys = []\n",
    "# ... (rest of your code) ...\n",
    "\n",
    "for x in xs:\n",
    "    u.setValue(x)\n",
    "    ys.append(option.NPV())\n",
    "    \n",
    "# Move plotting outside the loop to plot after all data points are collected\n",
    "ax.set_title('Option value')  \n",
    "# utils.highlight_x_axis(ax)  # If 'highlight_x_axis' exists in 'utils', you can keep this line, otherwise, consider removing it or implementing it using matplotlib functionality\n",
    "ax.plot(xs, ys)  # Use matplotlib's plot function\n",
    "\n",
    "plt.show()  # Display the plot"
   ]
  },
  {
   "cell_type": "code",
   "execution_count": 47,
   "id": "a01bd1dc-b5af-4b92-8b64-26e21375c23e",
   "metadata": {},
   "outputs": [],
   "source": [
    "u.setValue(105.0)\n",
    "r.setValue(0.01)\n",
    "sigma.setValue(0.20)"
   ]
  },
  {
   "cell_type": "code",
   "execution_count": 48,
   "id": "79e57423-632c-40e5-9028-3e749b32e37f",
   "metadata": {},
   "outputs": [
    {
     "name": "stdout",
     "output_type": "stream",
     "text": [
      "17.698227839595344\n"
     ]
    }
   ],
   "source": [
    "print(option.NPV())"
   ]
  },
  {
   "cell_type": "code",
   "execution_count": 49,
   "id": "04d03eea-1b04-4a93-a431-4b28e0577388",
   "metadata": {},
   "outputs": [],
   "source": [
    "r.setValue(0.03)"
   ]
  },
  {
   "cell_type": "code",
   "execution_count": 50,
   "id": "355201f9-c5d9-4b70-aa49-c2eb2ead574a",
   "metadata": {},
   "outputs": [
    {
     "name": "stdout",
     "output_type": "stream",
     "text": [
      "17.698227839595344\n"
     ]
    }
   ],
   "source": [
    "print(option.NPV())"
   ]
  },
  {
   "cell_type": "code",
   "execution_count": 51,
   "id": "a55389ee-2f6c-4ddc-84da-7ff8f9f6cff9",
   "metadata": {},
   "outputs": [],
   "source": [
    "sigma.setValue(0.25)"
   ]
  },
  {
   "cell_type": "code",
   "execution_count": 52,
   "id": "89d921ca-167e-4484-abfe-4f43b2884bfb",
   "metadata": {},
   "outputs": [
    {
     "name": "stdout",
     "output_type": "stream",
     "text": [
      "17.698227839595344\n"
     ]
    }
   ],
   "source": [
    "print(option.NPV())"
   ]
  },
  {
   "cell_type": "code",
   "execution_count": null,
   "id": "a2445d10-a224-4802-9c57-6932dcdaf654",
   "metadata": {},
   "outputs": [],
   "source": []
  }
 ],
 "metadata": {
  "kernelspec": {
   "display_name": "Python 3 (ipykernel)",
   "language": "python",
   "name": "python3"
  },
  "language_info": {
   "codemirror_mode": {
    "name": "ipython",
    "version": 3
   },
   "file_extension": ".py",
   "mimetype": "text/x-python",
   "name": "python",
   "nbconvert_exporter": "python",
   "pygments_lexer": "ipython3",
   "version": "3.12.4"
  }
 },
 "nbformat": 4,
 "nbformat_minor": 5
}
